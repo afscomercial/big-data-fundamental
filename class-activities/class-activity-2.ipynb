{
  "cells": [
    {
      "cell_type": "markdown",
      "metadata": {
        "id": "DLaeODHRbk5S"
      },
      "source": [
        "**In-class activity N°2**\n",
        "\n",
        "Group 2:\n",
        "\n",
        "* Andrea Franco\n",
        "* Andres Salguero\n",
        "* Harpreet Kaur"
      ]
    },
    {
      "cell_type": "markdown",
      "metadata": {},
      "source": [
        "# Libraries"
      ]
    },
    {
      "cell_type": "code",
      "execution_count": 4,
      "metadata": {},
      "outputs": [],
      "source": [
        "import pandas as pd\n",
        "import numpy as np\n",
        "from sklearn import linear_model\n",
        "\n",
        "from sklearn.metrics import r2_score\n",
        "from sklearn.model_selection import train_test_split, cross_val_score\n",
        "from sklearn.preprocessing import StandardScaler, LabelEncoder\n",
        "\n",
        "import matplotlib.pyplot as plt"
      ]
    },
    {
      "cell_type": "markdown",
      "metadata": {
        "id": "6WvNE-k1bk5U"
      },
      "source": [
        "## IV) Data Extraction\n",
        "\n",
        "As the dataset has already been characterized, identified and acquired, we start the data lifecycle from the Data extraction."
      ]
    },
    {
      "cell_type": "code",
      "execution_count": 5,
      "metadata": {
        "colab": {
          "base_uri": "https://localhost:8080/",
          "height": 669
        },
        "id": "8UKaof_Nbk5U",
        "outputId": "809ceb78-eacb-426e-f612-0b8feac544b1"
      },
      "outputs": [
        {
          "data": {
            "text/html": [
              "<div>\n",
              "<style scoped>\n",
              "    .dataframe tbody tr th:only-of-type {\n",
              "        vertical-align: middle;\n",
              "    }\n",
              "\n",
              "    .dataframe tbody tr th {\n",
              "        vertical-align: top;\n",
              "    }\n",
              "\n",
              "    .dataframe thead th {\n",
              "        text-align: right;\n",
              "    }\n",
              "</style>\n",
              "<table border=\"1\" class=\"dataframe\">\n",
              "  <thead>\n",
              "    <tr style=\"text-align: right;\">\n",
              "      <th></th>\n",
              "      <th>symbol</th>\n",
              "      <th>exchange</th>\n",
              "      <th>date</th>\n",
              "      <th>adjusted close</th>\n",
              "      <th>option symbol</th>\n",
              "      <th>expiration</th>\n",
              "      <th>strike</th>\n",
              "      <th>call/put</th>\n",
              "      <th>style</th>\n",
              "      <th>ask</th>\n",
              "      <th>...</th>\n",
              "      <th>iv</th>\n",
              "      <th>volume</th>\n",
              "      <th>open interest</th>\n",
              "      <th>stock price for iv</th>\n",
              "      <th>*</th>\n",
              "      <th>delta</th>\n",
              "      <th>vega</th>\n",
              "      <th>gamma</th>\n",
              "      <th>theta</th>\n",
              "      <th>rho</th>\n",
              "    </tr>\n",
              "  </thead>\n",
              "  <tbody>\n",
              "    <tr>\n",
              "      <th>0</th>\n",
              "      <td>SPY</td>\n",
              "      <td>NYSEArca</td>\n",
              "      <td>07/30/2021</td>\n",
              "      <td>438.51</td>\n",
              "      <td>SPY   210730C00215000</td>\n",
              "      <td>07/30/2021</td>\n",
              "      <td>215.0</td>\n",
              "      <td>C</td>\n",
              "      <td>A</td>\n",
              "      <td>224.56</td>\n",
              "      <td>...</td>\n",
              "      <td>-1.000000</td>\n",
              "      <td>0</td>\n",
              "      <td>0</td>\n",
              "      <td>438.97</td>\n",
              "      <td>NaN</td>\n",
              "      <td>0.000000</td>\n",
              "      <td>0.000000</td>\n",
              "      <td>0.000000</td>\n",
              "      <td>0.000000</td>\n",
              "      <td>0.000000</td>\n",
              "    </tr>\n",
              "    <tr>\n",
              "      <th>1</th>\n",
              "      <td>SPY</td>\n",
              "      <td>NYSEArca</td>\n",
              "      <td>07/30/2021</td>\n",
              "      <td>438.51</td>\n",
              "      <td>SPY   210730P00215000</td>\n",
              "      <td>07/30/2021</td>\n",
              "      <td>215.0</td>\n",
              "      <td>P</td>\n",
              "      <td>A</td>\n",
              "      <td>0.01</td>\n",
              "      <td>...</td>\n",
              "      <td>-1.000000</td>\n",
              "      <td>0</td>\n",
              "      <td>1401</td>\n",
              "      <td>438.97</td>\n",
              "      <td>NaN</td>\n",
              "      <td>0.000000</td>\n",
              "      <td>0.000000</td>\n",
              "      <td>0.000000</td>\n",
              "      <td>0.000000</td>\n",
              "      <td>0.000000</td>\n",
              "    </tr>\n",
              "    <tr>\n",
              "      <th>2</th>\n",
              "      <td>SPY</td>\n",
              "      <td>NYSEArca</td>\n",
              "      <td>07/30/2021</td>\n",
              "      <td>438.51</td>\n",
              "      <td>SPY   210730C00220000</td>\n",
              "      <td>07/30/2021</td>\n",
              "      <td>220.0</td>\n",
              "      <td>C</td>\n",
              "      <td>A</td>\n",
              "      <td>219.56</td>\n",
              "      <td>...</td>\n",
              "      <td>-1.000000</td>\n",
              "      <td>0</td>\n",
              "      <td>1</td>\n",
              "      <td>438.97</td>\n",
              "      <td>NaN</td>\n",
              "      <td>0.000000</td>\n",
              "      <td>0.000000</td>\n",
              "      <td>0.000000</td>\n",
              "      <td>0.000000</td>\n",
              "      <td>0.000000</td>\n",
              "    </tr>\n",
              "    <tr>\n",
              "      <th>3</th>\n",
              "      <td>SPY</td>\n",
              "      <td>NYSEArca</td>\n",
              "      <td>07/30/2021</td>\n",
              "      <td>438.51</td>\n",
              "      <td>SPY   210730P00220000</td>\n",
              "      <td>07/30/2021</td>\n",
              "      <td>220.0</td>\n",
              "      <td>P</td>\n",
              "      <td>A</td>\n",
              "      <td>0.01</td>\n",
              "      <td>...</td>\n",
              "      <td>-1.000000</td>\n",
              "      <td>50</td>\n",
              "      <td>328</td>\n",
              "      <td>438.97</td>\n",
              "      <td>NaN</td>\n",
              "      <td>0.000000</td>\n",
              "      <td>0.000000</td>\n",
              "      <td>0.000000</td>\n",
              "      <td>0.000000</td>\n",
              "      <td>0.000000</td>\n",
              "    </tr>\n",
              "    <tr>\n",
              "      <th>4</th>\n",
              "      <td>SPY</td>\n",
              "      <td>NYSEArca</td>\n",
              "      <td>07/30/2021</td>\n",
              "      <td>438.51</td>\n",
              "      <td>SPY   210730C00225000</td>\n",
              "      <td>07/30/2021</td>\n",
              "      <td>225.0</td>\n",
              "      <td>C</td>\n",
              "      <td>A</td>\n",
              "      <td>214.56</td>\n",
              "      <td>...</td>\n",
              "      <td>-1.000000</td>\n",
              "      <td>0</td>\n",
              "      <td>0</td>\n",
              "      <td>438.97</td>\n",
              "      <td>NaN</td>\n",
              "      <td>0.000000</td>\n",
              "      <td>0.000000</td>\n",
              "      <td>0.000000</td>\n",
              "      <td>0.000000</td>\n",
              "      <td>0.000000</td>\n",
              "    </tr>\n",
              "    <tr>\n",
              "      <th>...</th>\n",
              "      <td>...</td>\n",
              "      <td>...</td>\n",
              "      <td>...</td>\n",
              "      <td>...</td>\n",
              "      <td>...</td>\n",
              "      <td>...</td>\n",
              "      <td>...</td>\n",
              "      <td>...</td>\n",
              "      <td>...</td>\n",
              "      <td>...</td>\n",
              "      <td>...</td>\n",
              "      <td>...</td>\n",
              "      <td>...</td>\n",
              "      <td>...</td>\n",
              "      <td>...</td>\n",
              "      <td>...</td>\n",
              "      <td>...</td>\n",
              "      <td>...</td>\n",
              "      <td>...</td>\n",
              "      <td>...</td>\n",
              "      <td>...</td>\n",
              "    </tr>\n",
              "    <tr>\n",
              "      <th>221041</th>\n",
              "      <td>SPY</td>\n",
              "      <td>NYSEArca</td>\n",
              "      <td>07/01/2021</td>\n",
              "      <td>430.43</td>\n",
              "      <td>SPY   231215P00630000</td>\n",
              "      <td>12/15/2023</td>\n",
              "      <td>630.0</td>\n",
              "      <td>P</td>\n",
              "      <td>A</td>\n",
              "      <td>206.50</td>\n",
              "      <td>...</td>\n",
              "      <td>0.148305</td>\n",
              "      <td>0</td>\n",
              "      <td>1</td>\n",
              "      <td>430.26</td>\n",
              "      <td>*</td>\n",
              "      <td>-0.924500</td>\n",
              "      <td>0.750370</td>\n",
              "      <td>0.001112</td>\n",
              "      <td>-0.011128</td>\n",
              "      <td>-14.857175</td>\n",
              "    </tr>\n",
              "    <tr>\n",
              "      <th>221042</th>\n",
              "      <td>SPY</td>\n",
              "      <td>NYSEArca</td>\n",
              "      <td>07/01/2021</td>\n",
              "      <td>430.43</td>\n",
              "      <td>SPY   231215C00635000</td>\n",
              "      <td>12/15/2023</td>\n",
              "      <td>635.0</td>\n",
              "      <td>C</td>\n",
              "      <td>A</td>\n",
              "      <td>2.20</td>\n",
              "      <td>...</td>\n",
              "      <td>0.148310</td>\n",
              "      <td>0</td>\n",
              "      <td>146</td>\n",
              "      <td>430.26</td>\n",
              "      <td>NaN</td>\n",
              "      <td>0.051628</td>\n",
              "      <td>0.710649</td>\n",
              "      <td>0.001053</td>\n",
              "      <td>-0.005507</td>\n",
              "      <td>0.496773</td>\n",
              "    </tr>\n",
              "    <tr>\n",
              "      <th>221043</th>\n",
              "      <td>SPY</td>\n",
              "      <td>NYSEArca</td>\n",
              "      <td>07/01/2021</td>\n",
              "      <td>430.43</td>\n",
              "      <td>SPY   231215P00635000</td>\n",
              "      <td>12/15/2023</td>\n",
              "      <td>635.0</td>\n",
              "      <td>P</td>\n",
              "      <td>A</td>\n",
              "      <td>211.50</td>\n",
              "      <td>...</td>\n",
              "      <td>0.148310</td>\n",
              "      <td>0</td>\n",
              "      <td>0</td>\n",
              "      <td>430.26</td>\n",
              "      <td>*</td>\n",
              "      <td>-0.928176</td>\n",
              "      <td>0.710649</td>\n",
              "      <td>0.001053</td>\n",
              "      <td>-0.010792</td>\n",
              "      <td>-15.014119</td>\n",
              "    </tr>\n",
              "    <tr>\n",
              "      <th>221044</th>\n",
              "      <td>SPY</td>\n",
              "      <td>NYSEArca</td>\n",
              "      <td>07/01/2021</td>\n",
              "      <td>430.43</td>\n",
              "      <td>SPY   231215C00640000</td>\n",
              "      <td>12/15/2023</td>\n",
              "      <td>640.0</td>\n",
              "      <td>C</td>\n",
              "      <td>A</td>\n",
              "      <td>2.73</td>\n",
              "      <td>...</td>\n",
              "      <td>0.148310</td>\n",
              "      <td>5</td>\n",
              "      <td>1</td>\n",
              "      <td>430.26</td>\n",
              "      <td>*</td>\n",
              "      <td>0.048170</td>\n",
              "      <td>0.672488</td>\n",
              "      <td>0.000997</td>\n",
              "      <td>-0.005217</td>\n",
              "      <td>0.463973</td>\n",
              "    </tr>\n",
              "    <tr>\n",
              "      <th>221045</th>\n",
              "      <td>SPY</td>\n",
              "      <td>NYSEArca</td>\n",
              "      <td>07/01/2021</td>\n",
              "      <td>430.43</td>\n",
              "      <td>SPY   231215P00640000</td>\n",
              "      <td>12/15/2023</td>\n",
              "      <td>640.0</td>\n",
              "      <td>P</td>\n",
              "      <td>A</td>\n",
              "      <td>216.50</td>\n",
              "      <td>...</td>\n",
              "      <td>0.148310</td>\n",
              "      <td>0</td>\n",
              "      <td>0</td>\n",
              "      <td>430.26</td>\n",
              "      <td>*</td>\n",
              "      <td>-0.931634</td>\n",
              "      <td>0.672488</td>\n",
              "      <td>0.000997</td>\n",
              "      <td>-0.010467</td>\n",
              "      <td>-15.169052</td>\n",
              "    </tr>\n",
              "  </tbody>\n",
              "</table>\n",
              "<p>221046 rows × 22 columns</p>\n",
              "</div>"
            ],
            "text/plain": [
              "       symbol  exchange        date  adjusted close          option symbol  \\\n",
              "0         SPY  NYSEArca  07/30/2021          438.51  SPY   210730C00215000   \n",
              "1         SPY  NYSEArca  07/30/2021          438.51  SPY   210730P00215000   \n",
              "2         SPY  NYSEArca  07/30/2021          438.51  SPY   210730C00220000   \n",
              "3         SPY  NYSEArca  07/30/2021          438.51  SPY   210730P00220000   \n",
              "4         SPY  NYSEArca  07/30/2021          438.51  SPY   210730C00225000   \n",
              "...       ...       ...         ...             ...                    ...   \n",
              "221041    SPY  NYSEArca  07/01/2021          430.43  SPY   231215P00630000   \n",
              "221042    SPY  NYSEArca  07/01/2021          430.43  SPY   231215C00635000   \n",
              "221043    SPY  NYSEArca  07/01/2021          430.43  SPY   231215P00635000   \n",
              "221044    SPY  NYSEArca  07/01/2021          430.43  SPY   231215C00640000   \n",
              "221045    SPY  NYSEArca  07/01/2021          430.43  SPY   231215P00640000   \n",
              "\n",
              "        expiration  strike call/put style     ask  ...        iv  volume  \\\n",
              "0       07/30/2021   215.0        C     A  224.56  ... -1.000000       0   \n",
              "1       07/30/2021   215.0        P     A    0.01  ... -1.000000       0   \n",
              "2       07/30/2021   220.0        C     A  219.56  ... -1.000000       0   \n",
              "3       07/30/2021   220.0        P     A    0.01  ... -1.000000      50   \n",
              "4       07/30/2021   225.0        C     A  214.56  ... -1.000000       0   \n",
              "...            ...     ...      ...   ...     ...  ...       ...     ...   \n",
              "221041  12/15/2023   630.0        P     A  206.50  ...  0.148305       0   \n",
              "221042  12/15/2023   635.0        C     A    2.20  ...  0.148310       0   \n",
              "221043  12/15/2023   635.0        P     A  211.50  ...  0.148310       0   \n",
              "221044  12/15/2023   640.0        C     A    2.73  ...  0.148310       5   \n",
              "221045  12/15/2023   640.0        P     A  216.50  ...  0.148310       0   \n",
              "\n",
              "        open interest  stock price for iv    *     delta      vega     gamma  \\\n",
              "0                   0              438.97  NaN  0.000000  0.000000  0.000000   \n",
              "1                1401              438.97  NaN  0.000000  0.000000  0.000000   \n",
              "2                   1              438.97  NaN  0.000000  0.000000  0.000000   \n",
              "3                 328              438.97  NaN  0.000000  0.000000  0.000000   \n",
              "4                   0              438.97  NaN  0.000000  0.000000  0.000000   \n",
              "...               ...                 ...  ...       ...       ...       ...   \n",
              "221041              1              430.26    * -0.924500  0.750370  0.001112   \n",
              "221042            146              430.26  NaN  0.051628  0.710649  0.001053   \n",
              "221043              0              430.26    * -0.928176  0.710649  0.001053   \n",
              "221044              1              430.26    *  0.048170  0.672488  0.000997   \n",
              "221045              0              430.26    * -0.931634  0.672488  0.000997   \n",
              "\n",
              "           theta        rho  \n",
              "0       0.000000   0.000000  \n",
              "1       0.000000   0.000000  \n",
              "2       0.000000   0.000000  \n",
              "3       0.000000   0.000000  \n",
              "4       0.000000   0.000000  \n",
              "...          ...        ...  \n",
              "221041 -0.011128 -14.857175  \n",
              "221042 -0.005507   0.496773  \n",
              "221043 -0.010792 -15.014119  \n",
              "221044 -0.005217   0.463973  \n",
              "221045 -0.010467 -15.169052  \n",
              "\n",
              "[221046 rows x 22 columns]"
            ]
          },
          "execution_count": 5,
          "metadata": {},
          "output_type": "execute_result"
        }
      ],
      "source": [
        "df = pd.read_csv(\"https://raw.githubusercontent.com/afscomercial/big-data-fundamental/main/class-activities/data_activity2.csv\")\n",
        "df"
      ]
    },
    {
      "cell_type": "markdown",
      "metadata": {
        "id": "_19WSa99bk5V"
      },
      "source": [
        "\n",
        "## Step V : Data Validation and Cleansing\n",
        " For this we will check for null functions in our dataset using isnull function() and also check for unique values using unique function."
      ]
    },
    {
      "cell_type": "code",
      "execution_count": 6,
      "metadata": {
        "colab": {
          "base_uri": "https://localhost:8080/"
        },
        "id": "yqbOXGQ3bk5V",
        "outputId": "88d7f66a-72a6-47cb-88dc-6e927b4ad6f0"
      },
      "outputs": [
        {
          "data": {
            "text/plain": [
              "symbol                     0\n",
              "exchange                   0\n",
              "date                       0\n",
              "adjusted close             0\n",
              "option symbol              0\n",
              "expiration                 0\n",
              "strike                     0\n",
              "call/put                   0\n",
              "style                      0\n",
              "ask                        0\n",
              "bid                        0\n",
              "mean price                 0\n",
              "iv                         0\n",
              "volume                     0\n",
              "open interest              0\n",
              "stock price for iv         0\n",
              "*                     192007\n",
              "delta                      0\n",
              "vega                       0\n",
              "gamma                      0\n",
              "theta                      0\n",
              "rho                        0\n",
              "dtype: int64"
            ]
          },
          "execution_count": 6,
          "metadata": {},
          "output_type": "execute_result"
        }
      ],
      "source": [
        "df.isnull().sum()"
      ]
    },
    {
      "cell_type": "markdown",
      "metadata": {
        "id": "M2ZEmsqabk5W"
      },
      "source": [
        "### Checking for unique values:"
      ]
    },
    {
      "cell_type": "code",
      "execution_count": 7,
      "metadata": {
        "colab": {
          "base_uri": "https://localhost:8080/"
        },
        "id": "d7lCnEFCbk5W",
        "outputId": "f37ef493-582b-4ce4-921b-8e0259b18e9c"
      },
      "outputs": [
        {
          "data": {
            "text/plain": [
              "symbol                     1\n",
              "exchange                   1\n",
              "date                      21\n",
              "adjusted close            21\n",
              "option symbol          13960\n",
              "expiration                48\n",
              "strike                   312\n",
              "call/put                   2\n",
              "style                      1\n",
              "ask                    22926\n",
              "bid                    22611\n",
              "mean price             36172\n",
              "iv                    146910\n",
              "volume                  6205\n",
              "open interest          14825\n",
              "stock price for iv        21\n",
              "*                          1\n",
              "delta                 182814\n",
              "vega                  179397\n",
              "gamma                  28374\n",
              "theta                  91796\n",
              "rho                   183742\n",
              "dtype: int64"
            ]
          },
          "execution_count": 7,
          "metadata": {},
          "output_type": "execute_result"
        }
      ],
      "source": [
        "df.nunique()"
      ]
    },
    {
      "cell_type": "markdown",
      "metadata": {
        "id": "HPuS4HmRbk5W"
      },
      "source": [
        "### Dropping all the columns with only one unique value:\n"
      ]
    },
    {
      "cell_type": "code",
      "execution_count": 8,
      "metadata": {
        "id": "t9-gtp1Mbk5W"
      },
      "outputs": [],
      "source": [
        "df = df.loc[:, df.nunique() > 1]"
      ]
    },
    {
      "cell_type": "code",
      "execution_count": 9,
      "metadata": {
        "colab": {
          "base_uri": "https://localhost:8080/"
        },
        "id": "XsgrAXaTbk5X",
        "outputId": "b018f922-6401-4772-ced5-328af5072c74"
      },
      "outputs": [
        {
          "name": "stdout",
          "output_type": "stream",
          "text": [
            "<class 'pandas.core.frame.DataFrame'>\n",
            "RangeIndex: 221046 entries, 0 to 221045\n",
            "Data columns (total 18 columns):\n",
            " #   Column              Non-Null Count   Dtype  \n",
            "---  ------              --------------   -----  \n",
            " 0   date                221046 non-null  object \n",
            " 1   adjusted close      221046 non-null  float64\n",
            " 2   option symbol       221046 non-null  object \n",
            " 3   expiration          221046 non-null  object \n",
            " 4   strike              221046 non-null  float64\n",
            " 5   call/put            221046 non-null  object \n",
            " 6   ask                 221046 non-null  float64\n",
            " 7   bid                 221046 non-null  float64\n",
            " 8   mean price          221046 non-null  float64\n",
            " 9   iv                  221046 non-null  float64\n",
            " 10  volume              221046 non-null  int64  \n",
            " 11  open interest       221046 non-null  int64  \n",
            " 12  stock price for iv  221046 non-null  float64\n",
            " 13  delta               221046 non-null  float64\n",
            " 14  vega                221046 non-null  float64\n",
            " 15  gamma               221046 non-null  float64\n",
            " 16  theta               221046 non-null  float64\n",
            " 17  rho                 221046 non-null  float64\n",
            "dtypes: float64(12), int64(2), object(4)\n",
            "memory usage: 30.4+ MB\n"
          ]
        }
      ],
      "source": [
        "df.info()"
      ]
    },
    {
      "cell_type": "markdown",
      "metadata": {
        "id": "E-ihp3d9d2Ki"
      },
      "source": [
        "### Dropping columns not  that do not give value to the target"
      ]
    },
    {
      "cell_type": "code",
      "execution_count": 10,
      "metadata": {
        "id": "5YujhRkSf5CQ"
      },
      "outputs": [],
      "source": [
        "data = df.copy()"
      ]
    },
    {
      "cell_type": "code",
      "execution_count": 11,
      "metadata": {
        "id": "MgrNFNeUbk5X"
      },
      "outputs": [],
      "source": [
        "data.drop(['date', 'expiration'],axis=1, inplace=True)"
      ]
    },
    {
      "cell_type": "markdown",
      "metadata": {
        "id": "TWZVbm--bk5Y"
      },
      "source": [
        "### Converting Qualitative feature into Quantitative Feature:\n",
        "Here ,we are converting call/put qualitative feature into Quantitative feature"
      ]
    },
    {
      "cell_type": "code",
      "execution_count": 12,
      "metadata": {
        "id": "b3LIwFxfbk5Y"
      },
      "outputs": [],
      "source": [
        "le = LabelEncoder()"
      ]
    },
    {
      "cell_type": "code",
      "execution_count": 13,
      "metadata": {
        "colab": {
          "base_uri": "https://localhost:8080/"
        },
        "id": "SyDq3MGTbk5Y",
        "outputId": "c60adee3-6d04-4c87-b293-151981c73db2"
      },
      "outputs": [
        {
          "name": "stdout",
          "output_type": "stream",
          "text": [
            "{0: 'C', 1: 'P'}\n"
          ]
        }
      ],
      "source": [
        "data['call/put'] = le.fit_transform(data['call/put'])\n",
        "label_mapping1 = dict(enumerate(le.classes_))\n",
        "print(label_mapping1)"
      ]
    },
    {
      "cell_type": "markdown",
      "metadata": {
        "id": "4hJ4qIQZbk5Y"
      },
      "source": [
        "## Step VI : Data aggregation and representation:\n",
        "In this step we have to integrate multiple datasets into one single dataset. As the dataset we are dealing with does not have multiple datasets, we don't need to do this step and data is in the format of csv file."
      ]
    },
    {
      "cell_type": "markdown",
      "metadata": {},
      "source": [
        "## VII) Data Analysis"
      ]
    },
    {
      "cell_type": "markdown",
      "metadata": {},
      "source": [
        "### 5. Split the data into train and test subsets\n",
        "\n",
        "We will split the data using sklearn train_test_split module, assigning 30% of our data into the test split and the rest for the training set."
      ]
    },
    {
      "cell_type": "code",
      "execution_count": null,
      "metadata": {},
      "outputs": [],
      "source": [
        "X_train, X_test, y_train, y_test = train_test_split(\n",
        "    X, y, test_size=0.30, random_state=42)"
      ]
    },
    {
      "cell_type": "markdown",
      "metadata": {},
      "source": [
        "### 6. Build a machine-learning model\n",
        "\n",
        "The next step is to build a ML model. As the problem requires make a forecast of our target feature, being that feature a continue numerical variable, the chosen model is a regression algorithm. "
      ]
    },
    {
      "cell_type": "markdown",
      "metadata": {},
      "source": [
        "#### Linear regression\n",
        "From Scikit Learn library we create an instance of the linear regression model:"
      ]
    },
    {
      "cell_type": "code",
      "execution_count": null,
      "metadata": {},
      "outputs": [],
      "source": [
        "reg = linear_model.LinearRegression()"
      ]
    },
    {
      "cell_type": "markdown",
      "metadata": {},
      "source": [
        "Then, with .fit we can use train the model by adjusting data from X to Y.\n",
        "\n",
        "LinearRegression will take in its fit method arrays X, y and will store the coefficients \n",
        " of the linear model in its coef_ member:"
      ]
    },
    {
      "cell_type": "code",
      "execution_count": null,
      "metadata": {},
      "outputs": [],
      "source": [
        "reg.fit(X,y)\n",
        "\n",
        "#Visualize coefficients from the model\n",
        "reg.coef_"
      ]
    },
    {
      "cell_type": "markdown",
      "metadata": {},
      "source": [
        "Evaluate the r2_Score metric"
      ]
    },
    {
      "cell_type": "code",
      "execution_count": null,
      "metadata": {},
      "outputs": [],
      "source": [
        "print(r2_score(y, reg(X))"
      ]
    },
    {
      "cell_type": "markdown",
      "metadata": {},
      "source": [
        "#### Polynomial regression"
      ]
    },
    {
      "cell_type": "code",
      "execution_count": null,
      "metadata": {},
      "outputs": [],
      "source": [
        "mymodel = np.poly1d(np.polyfit(X, y, 3))"
      ]
    },
    {
      "cell_type": "markdown",
      "metadata": {},
      "source": [
        "Evaluate the model with r2_score"
      ]
    },
    {
      "cell_type": "code",
      "execution_count": null,
      "metadata": {},
      "outputs": [],
      "source": [
        "print(r2_score(y, mymodel(X))"
      ]
    },
    {
      "cell_type": "markdown",
      "metadata": {},
      "source": [
        "### 7. Perform a cross-validation technique\n",
        "\n",
        "One way to use cross-validation is to call the cross_val_score function on the estimator and the dataset.\n",
        "\n",
        "The following code cell estimates the accuracy of a linear regression on our dataset by splitting the data, fitting a model and computing the score 5 consecutive times (with different splits each time):"
      ]
    },
    {
      "cell_type": "code",
      "execution_count": null,
      "metadata": {},
      "outputs": [],
      "source": [
        "scores = cross_val_score(reg, X, y, cv=5)\n",
        "scores"
      ]
    },
    {
      "cell_type": "markdown",
      "metadata": {},
      "source": [
        "## VIII) Data Visualization"
      ]
    },
    {
      "cell_type": "code",
      "execution_count": 14,
      "metadata": {},
      "outputs": [
        {
          "data": {
            "text/plain": [
              "Text(0, 0.5, 'Frequency')"
            ]
          },
          "execution_count": 14,
          "metadata": {},
          "output_type": "execute_result"
        },
        {
          "data": {
            "image/png": "[encoded data removed]",
            "text/plain": [
              "<Figure size 640x480 with 1 Axes>"
            ]
          },
          "metadata": {},
          "output_type": "display_data"
        }
      ],
      "source": [
        "counts, bins = np.histogram(df['volume'])\n",
        "plt.stairs(counts, bins)\n",
        "plt.xlabel('Volume')\n",
        "plt.ylabel('Frequency')"
      ]
    },
    {
      "cell_type": "markdown",
      "metadata": {},
      "source": [
        "# References\n",
        "\n",
        "* https://scikit-learn.org/stable/modules/linear_model.html\n",
        "* https://www.w3schools.com/python/python_ml_polynomial_regression.asp\n",
        "* https://scikit-learn.org/stable/modules/cross_validation.html\n"
      ]
    }
  ],
  "metadata": {
    "colab": {
      "provenance": []
    },
    "kernelspec": {
      "display_name": "base",
      "language": "python",
      "name": "python3"
    },
    "language_info": {
      "codemirror_mode": {
        "name": "ipython",
        "version": 3
      },
      "file_extension": ".py",
      "mimetype": "text/x-python",
      "name": "python",
      "nbconvert_exporter": "python",
      "pygments_lexer": "ipython3",
      "version": "3.11.7"
    }
  },
  "nbformat": 4,
  "nbformat_minor": 0
}
