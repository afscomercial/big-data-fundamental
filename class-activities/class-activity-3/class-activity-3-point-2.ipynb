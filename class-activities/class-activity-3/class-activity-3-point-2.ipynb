{
  "cells": [
    {
      "cell_type": "markdown",
      "metadata": {
        "id": "DLaeODHRbk5S"
      },
      "source": [
        "**In-class activity N°3**\n",
        "\n",
        "Group 2:\n",
        "\n",
        "* Andrea Franco\n",
        "* Andres Salguero\n",
        "* Harpreet Kaur"
      ]
    },
    {
      "cell_type": "markdown",
      "metadata": {},
      "source": [
        "# ----- Class Activity 2 -----"
      ]
    },
    {
      "cell_type": "markdown",
      "metadata": {},
      "source": [
        "## Libraries"
      ]
    },
    {
      "cell_type": "code",
      "execution_count": 203,
      "metadata": {},
      "outputs": [],
      "source": [
        "import pandas as pd\n",
        "import numpy as np\n",
        "from sklearn import linear_model\n",
        "\n",
        "from sklearn.metrics import mean_absolute_error,mean_squared_error \n",
        "from sklearn.model_selection import train_test_split, cross_val_score\n",
        "from sklearn.preprocessing import StandardScaler, LabelEncoder, OneHotEncoder\n",
        "import seaborn as sns\n",
        "import matplotlib.pyplot as plt"
      ]
    },
    {
      "cell_type": "markdown",
      "metadata": {},
      "source": [
        "## Stock market data\n",
        "\n",
        "The business would like to predict any of the columns of data from July 30, 2021 based on the data for July 1 to July 29, 2021. So this is a predictive analysis activity.\n",
        "\n",
        "In our case, we will predict the **volume** based on previous data.\n",
        "\n",
        "Feature descriptions:\n",
        "\n",
        "* symbol: the underlying stock\n",
        "\n",
        "* date: the dataset date\n",
        "\n",
        "* adjusted close: the closing price of the underlying stock after extended trading session\n",
        "\n",
        "* stock price: the closing price of the underlying stock\n",
        "\n",
        "* option symbol: string combining other fields identifying the option\n",
        "\n",
        "* expiration: date that the option expires\n",
        "\n",
        "* strike: the price that the option gives you the right to trade the underlying stock\n",
        "\n",
        "* call/put: whether the option is a Call (right to buy underlying stock) or a Put (right to sell underlying stock)\n",
        "\n",
        "* ask/bid/meanprice: market prices of the option (last offer to sell, last offer to buy, and the average of the two prices)\n",
        "\n",
        "* iv: how fearful the market is of a market crash or severe decline in prices\n",
        "\n",
        "* volume: number of contracts traded today\n",
        "\n",
        "* open interest: number of contracts currently held\n",
        "\n",
        "* greeks (delta, gamma, vega, theta, rho): group of five metrics used to analyze the risk and potential return of options contracts.\n",
        "\n"
      ]
    },
    {
      "cell_type": "markdown",
      "metadata": {
        "id": "6WvNE-k1bk5U"
      },
      "source": [
        "## IV) Data Extraction\n",
        "\n",
        "As the dataset has already been characterized, identified and acquired, we start the data lifecycle from the Data extraction."
      ]
    },
    {
      "cell_type": "code",
      "execution_count": 204,
      "metadata": {
        "colab": {
          "base_uri": "https://localhost:8080/",
          "height": 669
        },
        "id": "8UKaof_Nbk5U",
        "outputId": "809ceb78-eacb-426e-f612-0b8feac544b1"
      },
      "outputs": [
        {
          "data": {
            "text/html": [
              "<div>\n",
              "<style scoped>\n",
              "    .dataframe tbody tr th:only-of-type {\n",
              "        vertical-align: middle;\n",
              "    }\n",
              "\n",
              "    .dataframe tbody tr th {\n",
              "        vertical-align: top;\n",
              "    }\n",
              "\n",
              "    .dataframe thead th {\n",
              "        text-align: right;\n",
              "    }\n",
              "</style>\n",
              "<table border=\"1\" class=\"dataframe\">\n",
              "  <thead>\n",
              "    <tr style=\"text-align: right;\">\n",
              "      <th></th>\n",
              "      <th>symbol</th>\n",
              "      <th>exchange</th>\n",
              "      <th>date</th>\n",
              "      <th>adjusted close</th>\n",
              "      <th>option symbol</th>\n",
              "      <th>expiration</th>\n",
              "      <th>strike</th>\n",
              "      <th>call/put</th>\n",
              "      <th>style</th>\n",
              "      <th>ask</th>\n",
              "      <th>...</th>\n",
              "      <th>iv</th>\n",
              "      <th>volume</th>\n",
              "      <th>open interest</th>\n",
              "      <th>stock price for iv</th>\n",
              "      <th>*</th>\n",
              "      <th>delta</th>\n",
              "      <th>vega</th>\n",
              "      <th>gamma</th>\n",
              "      <th>theta</th>\n",
              "      <th>rho</th>\n",
              "    </tr>\n",
              "  </thead>\n",
              "  <tbody>\n",
              "    <tr>\n",
              "      <th>0</th>\n",
              "      <td>SPY</td>\n",
              "      <td>NYSEArca</td>\n",
              "      <td>07/30/2021</td>\n",
              "      <td>438.51</td>\n",
              "      <td>SPY   210730C00215000</td>\n",
              "      <td>07/30/2021</td>\n",
              "      <td>215.0</td>\n",
              "      <td>C</td>\n",
              "      <td>A</td>\n",
              "      <td>224.56</td>\n",
              "      <td>...</td>\n",
              "      <td>-1.000000</td>\n",
              "      <td>0</td>\n",
              "      <td>0</td>\n",
              "      <td>438.97</td>\n",
              "      <td>NaN</td>\n",
              "      <td>0.000000</td>\n",
              "      <td>0.000000</td>\n",
              "      <td>0.000000</td>\n",
              "      <td>0.000000</td>\n",
              "      <td>0.000000</td>\n",
              "    </tr>\n",
              "    <tr>\n",
              "      <th>1</th>\n",
              "      <td>SPY</td>\n",
              "      <td>NYSEArca</td>\n",
              "      <td>07/30/2021</td>\n",
              "      <td>438.51</td>\n",
              "      <td>SPY   210730P00215000</td>\n",
              "      <td>07/30/2021</td>\n",
              "      <td>215.0</td>\n",
              "      <td>P</td>\n",
              "      <td>A</td>\n",
              "      <td>0.01</td>\n",
              "      <td>...</td>\n",
              "      <td>-1.000000</td>\n",
              "      <td>0</td>\n",
              "      <td>1401</td>\n",
              "      <td>438.97</td>\n",
              "      <td>NaN</td>\n",
              "      <td>0.000000</td>\n",
              "      <td>0.000000</td>\n",
              "      <td>0.000000</td>\n",
              "      <td>0.000000</td>\n",
              "      <td>0.000000</td>\n",
              "    </tr>\n",
              "    <tr>\n",
              "      <th>2</th>\n",
              "      <td>SPY</td>\n",
              "      <td>NYSEArca</td>\n",
              "      <td>07/30/2021</td>\n",
              "      <td>438.51</td>\n",
              "      <td>SPY   210730C00220000</td>\n",
              "      <td>07/30/2021</td>\n",
              "      <td>220.0</td>\n",
              "      <td>C</td>\n",
              "      <td>A</td>\n",
              "      <td>219.56</td>\n",
              "      <td>...</td>\n",
              "      <td>-1.000000</td>\n",
              "      <td>0</td>\n",
              "      <td>1</td>\n",
              "      <td>438.97</td>\n",
              "      <td>NaN</td>\n",
              "      <td>0.000000</td>\n",
              "      <td>0.000000</td>\n",
              "      <td>0.000000</td>\n",
              "      <td>0.000000</td>\n",
              "      <td>0.000000</td>\n",
              "    </tr>\n",
              "    <tr>\n",
              "      <th>3</th>\n",
              "      <td>SPY</td>\n",
              "      <td>NYSEArca</td>\n",
              "      <td>07/30/2021</td>\n",
              "      <td>438.51</td>\n",
              "      <td>SPY   210730P00220000</td>\n",
              "      <td>07/30/2021</td>\n",
              "      <td>220.0</td>\n",
              "      <td>P</td>\n",
              "      <td>A</td>\n",
              "      <td>0.01</td>\n",
              "      <td>...</td>\n",
              "      <td>-1.000000</td>\n",
              "      <td>50</td>\n",
              "      <td>328</td>\n",
              "      <td>438.97</td>\n",
              "      <td>NaN</td>\n",
              "      <td>0.000000</td>\n",
              "      <td>0.000000</td>\n",
              "      <td>0.000000</td>\n",
              "      <td>0.000000</td>\n",
              "      <td>0.000000</td>\n",
              "    </tr>\n",
              "    <tr>\n",
              "      <th>4</th>\n",
              "      <td>SPY</td>\n",
              "      <td>NYSEArca</td>\n",
              "      <td>07/30/2021</td>\n",
              "      <td>438.51</td>\n",
              "      <td>SPY   210730C00225000</td>\n",
              "      <td>07/30/2021</td>\n",
              "      <td>225.0</td>\n",
              "      <td>C</td>\n",
              "      <td>A</td>\n",
              "      <td>214.56</td>\n",
              "      <td>...</td>\n",
              "      <td>-1.000000</td>\n",
              "      <td>0</td>\n",
              "      <td>0</td>\n",
              "      <td>438.97</td>\n",
              "      <td>NaN</td>\n",
              "      <td>0.000000</td>\n",
              "      <td>0.000000</td>\n",
              "      <td>0.000000</td>\n",
              "      <td>0.000000</td>\n",
              "      <td>0.000000</td>\n",
              "    </tr>\n",
              "    <tr>\n",
              "      <th>...</th>\n",
              "      <td>...</td>\n",
              "      <td>...</td>\n",
              "      <td>...</td>\n",
              "      <td>...</td>\n",
              "      <td>...</td>\n",
              "      <td>...</td>\n",
              "      <td>...</td>\n",
              "      <td>...</td>\n",
              "      <td>...</td>\n",
              "      <td>...</td>\n",
              "      <td>...</td>\n",
              "      <td>...</td>\n",
              "      <td>...</td>\n",
              "      <td>...</td>\n",
              "      <td>...</td>\n",
              "      <td>...</td>\n",
              "      <td>...</td>\n",
              "      <td>...</td>\n",
              "      <td>...</td>\n",
              "      <td>...</td>\n",
              "      <td>...</td>\n",
              "    </tr>\n",
              "    <tr>\n",
              "      <th>221041</th>\n",
              "      <td>SPY</td>\n",
              "      <td>NYSEArca</td>\n",
              "      <td>07/01/2021</td>\n",
              "      <td>430.43</td>\n",
              "      <td>SPY   231215P00630000</td>\n",
              "      <td>12/15/2023</td>\n",
              "      <td>630.0</td>\n",
              "      <td>P</td>\n",
              "      <td>A</td>\n",
              "      <td>206.50</td>\n",
              "      <td>...</td>\n",
              "      <td>0.148305</td>\n",
              "      <td>0</td>\n",
              "      <td>1</td>\n",
              "      <td>430.26</td>\n",
              "      <td>*</td>\n",
              "      <td>-0.924500</td>\n",
              "      <td>0.750370</td>\n",
              "      <td>0.001112</td>\n",
              "      <td>-0.011128</td>\n",
              "      <td>-14.857175</td>\n",
              "    </tr>\n",
              "    <tr>\n",
              "      <th>221042</th>\n",
              "      <td>SPY</td>\n",
              "      <td>NYSEArca</td>\n",
              "      <td>07/01/2021</td>\n",
              "      <td>430.43</td>\n",
              "      <td>SPY   231215C00635000</td>\n",
              "      <td>12/15/2023</td>\n",
              "      <td>635.0</td>\n",
              "      <td>C</td>\n",
              "      <td>A</td>\n",
              "      <td>2.20</td>\n",
              "      <td>...</td>\n",
              "      <td>0.148310</td>\n",
              "      <td>0</td>\n",
              "      <td>146</td>\n",
              "      <td>430.26</td>\n",
              "      <td>NaN</td>\n",
              "      <td>0.051628</td>\n",
              "      <td>0.710649</td>\n",
              "      <td>0.001053</td>\n",
              "      <td>-0.005507</td>\n",
              "      <td>0.496773</td>\n",
              "    </tr>\n",
              "    <tr>\n",
              "      <th>221043</th>\n",
              "      <td>SPY</td>\n",
              "      <td>NYSEArca</td>\n",
              "      <td>07/01/2021</td>\n",
              "      <td>430.43</td>\n",
              "      <td>SPY   231215P00635000</td>\n",
              "      <td>12/15/2023</td>\n",
              "      <td>635.0</td>\n",
              "      <td>P</td>\n",
              "      <td>A</td>\n",
              "      <td>211.50</td>\n",
              "      <td>...</td>\n",
              "      <td>0.148310</td>\n",
              "      <td>0</td>\n",
              "      <td>0</td>\n",
              "      <td>430.26</td>\n",
              "      <td>*</td>\n",
              "      <td>-0.928176</td>\n",
              "      <td>0.710649</td>\n",
              "      <td>0.001053</td>\n",
              "      <td>-0.010792</td>\n",
              "      <td>-15.014119</td>\n",
              "    </tr>\n",
              "    <tr>\n",
              "      <th>221044</th>\n",
              "      <td>SPY</td>\n",
              "      <td>NYSEArca</td>\n",
              "      <td>07/01/2021</td>\n",
              "      <td>430.43</td>\n",
              "      <td>SPY   231215C00640000</td>\n",
              "      <td>12/15/2023</td>\n",
              "      <td>640.0</td>\n",
              "      <td>C</td>\n",
              "      <td>A</td>\n",
              "      <td>2.73</td>\n",
              "      <td>...</td>\n",
              "      <td>0.148310</td>\n",
              "      <td>5</td>\n",
              "      <td>1</td>\n",
              "      <td>430.26</td>\n",
              "      <td>*</td>\n",
              "      <td>0.048170</td>\n",
              "      <td>0.672488</td>\n",
              "      <td>0.000997</td>\n",
              "      <td>-0.005217</td>\n",
              "      <td>0.463973</td>\n",
              "    </tr>\n",
              "    <tr>\n",
              "      <th>221045</th>\n",
              "      <td>SPY</td>\n",
              "      <td>NYSEArca</td>\n",
              "      <td>07/01/2021</td>\n",
              "      <td>430.43</td>\n",
              "      <td>SPY   231215P00640000</td>\n",
              "      <td>12/15/2023</td>\n",
              "      <td>640.0</td>\n",
              "      <td>P</td>\n",
              "      <td>A</td>\n",
              "      <td>216.50</td>\n",
              "      <td>...</td>\n",
              "      <td>0.148310</td>\n",
              "      <td>0</td>\n",
              "      <td>0</td>\n",
              "      <td>430.26</td>\n",
              "      <td>*</td>\n",
              "      <td>-0.931634</td>\n",
              "      <td>0.672488</td>\n",
              "      <td>0.000997</td>\n",
              "      <td>-0.010467</td>\n",
              "      <td>-15.169052</td>\n",
              "    </tr>\n",
              "  </tbody>\n",
              "</table>\n",
              "<p>221046 rows × 22 columns</p>\n",
              "</div>"
            ],
            "text/plain": [
              "       symbol  exchange        date  adjusted close          option symbol  \\\n",
              "0         SPY  NYSEArca  07/30/2021          438.51  SPY   210730C00215000   \n",
              "1         SPY  NYSEArca  07/30/2021          438.51  SPY   210730P00215000   \n",
              "2         SPY  NYSEArca  07/30/2021          438.51  SPY   210730C00220000   \n",
              "3         SPY  NYSEArca  07/30/2021          438.51  SPY   210730P00220000   \n",
              "4         SPY  NYSEArca  07/30/2021          438.51  SPY   210730C00225000   \n",
              "...       ...       ...         ...             ...                    ...   \n",
              "221041    SPY  NYSEArca  07/01/2021          430.43  SPY   231215P00630000   \n",
              "221042    SPY  NYSEArca  07/01/2021          430.43  SPY   231215C00635000   \n",
              "221043    SPY  NYSEArca  07/01/2021          430.43  SPY   231215P00635000   \n",
              "221044    SPY  NYSEArca  07/01/2021          430.43  SPY   231215C00640000   \n",
              "221045    SPY  NYSEArca  07/01/2021          430.43  SPY   231215P00640000   \n",
              "\n",
              "        expiration  strike call/put style     ask  ...        iv  volume  \\\n",
              "0       07/30/2021   215.0        C     A  224.56  ... -1.000000       0   \n",
              "1       07/30/2021   215.0        P     A    0.01  ... -1.000000       0   \n",
              "2       07/30/2021   220.0        C     A  219.56  ... -1.000000       0   \n",
              "3       07/30/2021   220.0        P     A    0.01  ... -1.000000      50   \n",
              "4       07/30/2021   225.0        C     A  214.56  ... -1.000000       0   \n",
              "...            ...     ...      ...   ...     ...  ...       ...     ...   \n",
              "221041  12/15/2023   630.0        P     A  206.50  ...  0.148305       0   \n",
              "221042  12/15/2023   635.0        C     A    2.20  ...  0.148310       0   \n",
              "221043  12/15/2023   635.0        P     A  211.50  ...  0.148310       0   \n",
              "221044  12/15/2023   640.0        C     A    2.73  ...  0.148310       5   \n",
              "221045  12/15/2023   640.0        P     A  216.50  ...  0.148310       0   \n",
              "\n",
              "        open interest  stock price for iv    *     delta      vega     gamma  \\\n",
              "0                   0              438.97  NaN  0.000000  0.000000  0.000000   \n",
              "1                1401              438.97  NaN  0.000000  0.000000  0.000000   \n",
              "2                   1              438.97  NaN  0.000000  0.000000  0.000000   \n",
              "3                 328              438.97  NaN  0.000000  0.000000  0.000000   \n",
              "4                   0              438.97  NaN  0.000000  0.000000  0.000000   \n",
              "...               ...                 ...  ...       ...       ...       ...   \n",
              "221041              1              430.26    * -0.924500  0.750370  0.001112   \n",
              "221042            146              430.26  NaN  0.051628  0.710649  0.001053   \n",
              "221043              0              430.26    * -0.928176  0.710649  0.001053   \n",
              "221044              1              430.26    *  0.048170  0.672488  0.000997   \n",
              "221045              0              430.26    * -0.931634  0.672488  0.000997   \n",
              "\n",
              "           theta        rho  \n",
              "0       0.000000   0.000000  \n",
              "1       0.000000   0.000000  \n",
              "2       0.000000   0.000000  \n",
              "3       0.000000   0.000000  \n",
              "4       0.000000   0.000000  \n",
              "...          ...        ...  \n",
              "221041 -0.011128 -14.857175  \n",
              "221042 -0.005507   0.496773  \n",
              "221043 -0.010792 -15.014119  \n",
              "221044 -0.005217   0.463973  \n",
              "221045 -0.010467 -15.169052  \n",
              "\n",
              "[221046 rows x 22 columns]"
            ]
          },
          "execution_count": 204,
          "metadata": {},
          "output_type": "execute_result"
        }
      ],
      "source": [
        "df = pd.read_csv(\"https://raw.githubusercontent.com/afscomercial/big-data-fundamental/main/class-activities/data_activity2.csv\")\n",
        "df"
      ]
    },
    {
      "cell_type": "markdown",
      "metadata": {
        "id": "_19WSa99bk5V"
      },
      "source": [
        "\n",
        "## Step V) Data Validation and Cleansing\n",
        " For this we will check for null functions in our dataset using isnull function() and also check for unique values using unique function."
      ]
    },
    {
      "cell_type": "code",
      "execution_count": 205,
      "metadata": {
        "colab": {
          "base_uri": "https://localhost:8080/"
        },
        "id": "yqbOXGQ3bk5V",
        "outputId": "88d7f66a-72a6-47cb-88dc-6e927b4ad6f0"
      },
      "outputs": [
        {
          "data": {
            "text/plain": [
              "symbol                     0\n",
              "exchange                   0\n",
              "date                       0\n",
              "adjusted close             0\n",
              "option symbol              0\n",
              "expiration                 0\n",
              "strike                     0\n",
              "call/put                   0\n",
              "style                      0\n",
              "ask                        0\n",
              "bid                        0\n",
              "mean price                 0\n",
              "iv                         0\n",
              "volume                     0\n",
              "open interest              0\n",
              "stock price for iv         0\n",
              "*                     192007\n",
              "delta                      0\n",
              "vega                       0\n",
              "gamma                      0\n",
              "theta                      0\n",
              "rho                        0\n",
              "dtype: int64"
            ]
          },
          "execution_count": 205,
          "metadata": {},
          "output_type": "execute_result"
        }
      ],
      "source": [
        "df.isnull().sum()"
      ]
    },
    {
      "cell_type": "markdown",
      "metadata": {
        "id": "M2ZEmsqabk5W"
      },
      "source": [
        "### Checking for unique values:"
      ]
    },
    {
      "cell_type": "code",
      "execution_count": 206,
      "metadata": {
        "colab": {
          "base_uri": "https://localhost:8080/"
        },
        "id": "d7lCnEFCbk5W",
        "outputId": "f37ef493-582b-4ce4-921b-8e0259b18e9c"
      },
      "outputs": [
        {
          "data": {
            "text/plain": [
              "symbol                     1\n",
              "exchange                   1\n",
              "date                      21\n",
              "adjusted close            21\n",
              "option symbol          13960\n",
              "expiration                48\n",
              "strike                   312\n",
              "call/put                   2\n",
              "style                      1\n",
              "ask                    22926\n",
              "bid                    22611\n",
              "mean price             36172\n",
              "iv                    146910\n",
              "volume                  6205\n",
              "open interest          14825\n",
              "stock price for iv        21\n",
              "*                          1\n",
              "delta                 182814\n",
              "vega                  179397\n",
              "gamma                  28374\n",
              "theta                  91796\n",
              "rho                   183742\n",
              "dtype: int64"
            ]
          },
          "execution_count": 206,
          "metadata": {},
          "output_type": "execute_result"
        }
      ],
      "source": [
        "df.nunique()"
      ]
    },
    {
      "cell_type": "markdown",
      "metadata": {
        "id": "HPuS4HmRbk5W"
      },
      "source": [
        "### Dropping all the columns with only one unique value:\n"
      ]
    },
    {
      "cell_type": "markdown",
      "metadata": {},
      "source": [
        "From the previous analysis, we decided to drop the columns with one unique value because it won't give any insight to the model as it doesn't have any variety of data at all that help us to the determine the correct output. The columns that present this behavior are \"symbol\", \"exchange\", \"style\" and \"*\""
      ]
    },
    {
      "cell_type": "code",
      "execution_count": 207,
      "metadata": {
        "id": "t9-gtp1Mbk5W"
      },
      "outputs": [],
      "source": [
        "df = df.loc[:, df.nunique() > 1]"
      ]
    },
    {
      "cell_type": "code",
      "execution_count": 208,
      "metadata": {
        "colab": {
          "base_uri": "https://localhost:8080/"
        },
        "id": "XsgrAXaTbk5X",
        "outputId": "b018f922-6401-4772-ced5-328af5072c74"
      },
      "outputs": [
        {
          "name": "stdout",
          "output_type": "stream",
          "text": [
            "<class 'pandas.core.frame.DataFrame'>\n",
            "RangeIndex: 221046 entries, 0 to 221045\n",
            "Data columns (total 18 columns):\n",
            " #   Column              Non-Null Count   Dtype  \n",
            "---  ------              --------------   -----  \n",
            " 0   date                221046 non-null  object \n",
            " 1   adjusted close      221046 non-null  float64\n",
            " 2   option symbol       221046 non-null  object \n",
            " 3   expiration          221046 non-null  object \n",
            " 4   strike              221046 non-null  float64\n",
            " 5   call/put            221046 non-null  object \n",
            " 6   ask                 221046 non-null  float64\n",
            " 7   bid                 221046 non-null  float64\n",
            " 8   mean price          221046 non-null  float64\n",
            " 9   iv                  221046 non-null  float64\n",
            " 10  volume              221046 non-null  int64  \n",
            " 11  open interest       221046 non-null  int64  \n",
            " 12  stock price for iv  221046 non-null  float64\n",
            " 13  delta               221046 non-null  float64\n",
            " 14  vega                221046 non-null  float64\n",
            " 15  gamma               221046 non-null  float64\n",
            " 16  theta               221046 non-null  float64\n",
            " 17  rho                 221046 non-null  float64\n",
            "dtypes: float64(12), int64(2), object(4)\n",
            "memory usage: 30.4+ MB\n"
          ]
        }
      ],
      "source": [
        "df.info()"
      ]
    },
    {
      "cell_type": "markdown",
      "metadata": {
        "id": "E-ihp3d9d2Ki"
      },
      "source": [
        "### Dropping columns that do not give value to the target"
      ]
    },
    {
      "cell_type": "code",
      "execution_count": 209,
      "metadata": {
        "id": "5YujhRkSf5CQ"
      },
      "outputs": [],
      "source": [
        "data = df.copy()"
      ]
    },
    {
      "cell_type": "code",
      "execution_count": 210,
      "metadata": {
        "id": "MgrNFNeUbk5X"
      },
      "outputs": [],
      "source": [
        "data.drop(['expiration', 'option symbol'],axis=1, inplace=True)"
      ]
    },
    {
      "cell_type": "markdown",
      "metadata": {
        "id": "TWZVbm--bk5Y"
      },
      "source": [
        "### Converting Qualitative feature into Quantitative Feature:\n",
        "Here ,we are converting call/put qualitative feature into Quantitative feature"
      ]
    },
    {
      "cell_type": "code",
      "execution_count": 211,
      "metadata": {
        "id": "b3LIwFxfbk5Y"
      },
      "outputs": [],
      "source": [
        "le = LabelEncoder()"
      ]
    },
    {
      "cell_type": "code",
      "execution_count": 212,
      "metadata": {
        "colab": {
          "base_uri": "https://localhost:8080/"
        },
        "id": "SyDq3MGTbk5Y",
        "outputId": "c60adee3-6d04-4c87-b293-151981c73db2"
      },
      "outputs": [
        {
          "name": "stdout",
          "output_type": "stream",
          "text": [
            "{0: 'C', 1: 'P'}\n"
          ]
        }
      ],
      "source": [
        "data['call/put'] = le.fit_transform(data['call/put'])\n",
        "label_mapping1 = dict(enumerate(le.classes_))\n",
        "print(label_mapping1)"
      ]
    },
    {
      "cell_type": "markdown",
      "metadata": {
        "id": "4hJ4qIQZbk5Y"
      },
      "source": [
        "## Step VI) Data aggregation and representation:\n",
        "In this step we have to integrate multiple datasets into one single dataset. As the dataset we are dealing with does not have multiple datasets, we don't need to do this step and data is in the format of csv file."
      ]
    },
    {
      "cell_type": "markdown",
      "metadata": {},
      "source": [
        "## VII) Data Analysis"
      ]
    },
    {
      "cell_type": "markdown",
      "metadata": {},
      "source": [
        "### 1. Target variable exploration"
      ]
    },
    {
      "cell_type": "markdown",
      "metadata": {},
      "source": [
        "From the exploration of our target variable \"volume\" we can see that most of the data has a value lesser than 100'000."
      ]
    },
    {
      "cell_type": "code",
      "execution_count": 213,
      "metadata": {},
      "outputs": [
        {
          "data": {
            "text/plain": [
              "Text(0, 0.5, 'Frequency')"
            ]
          },
          "execution_count": 213,
          "metadata": {},
          "output_type": "execute_result"
        },
        {
          "data": {
            "image/png": "[encoded data removed]",
            "text/plain": [
              "<Figure size 640x480 with 1 Axes>"
            ]
          },
          "metadata": {},
          "output_type": "display_data"
        }
      ],
      "source": [
        "counts, bins = np.histogram(df['volume'])\n",
        "plt.stairs(counts, bins)\n",
        "plt.xlabel('Volume')\n",
        "plt.ylabel('Frequency')"
      ]
    },
    {
      "cell_type": "code",
      "execution_count": 214,
      "metadata": {},
      "outputs": [
        {
          "data": {
            "text/plain": [
              "count    221046.000000\n",
              "mean        405.715661\n",
              "std        5100.355521\n",
              "min           0.000000\n",
              "25%           0.000000\n",
              "50%           0.000000\n",
              "75%          19.000000\n",
              "max      446333.000000\n",
              "Name: volume, dtype: float64"
            ]
          },
          "execution_count": 214,
          "metadata": {},
          "output_type": "execute_result"
        }
      ],
      "source": [
        "data['volume'].describe()"
      ]
    },
    {
      "cell_type": "markdown",
      "metadata": {},
      "source": [
        "In fact, more than 75% of the data has a value less or equal than 19"
      ]
    },
    {
      "cell_type": "code",
      "execution_count": 215,
      "metadata": {},
      "outputs": [
        {
          "data": {
            "text/plain": [
              "<Axes: >"
            ]
          },
          "execution_count": 215,
          "metadata": {},
          "output_type": "execute_result"
        },
        {
          "data": {
            "image/png": "[encoded data removed]",
            "text/plain": [
              "<Figure size 640x480 with 1 Axes>"
            ]
          },
          "metadata": {},
          "output_type": "display_data"
        }
      ],
      "source": [
        "data.boxplot(column = ['volume'])"
      ]
    },
    {
      "cell_type": "code",
      "execution_count": 216,
      "metadata": {},
      "outputs": [
        {
          "data": {
            "text/plain": [
              "date                  9761\n",
              "adjusted close        9761\n",
              "strike                9761\n",
              "call/put              9761\n",
              "ask                   9761\n",
              "bid                   9761\n",
              "mean price            9761\n",
              "iv                    9761\n",
              "volume                9761\n",
              "open interest         9761\n",
              "stock price for iv    9761\n",
              "delta                 9761\n",
              "vega                  9761\n",
              "gamma                 9761\n",
              "theta                 9761\n",
              "rho                   9761\n",
              "dtype: int64"
            ]
          },
          "execution_count": 216,
          "metadata": {},
          "output_type": "execute_result"
        }
      ],
      "source": [
        "data[data['volume'] > 800].count()"
      ]
    },
    {
      "cell_type": "code",
      "execution_count": 217,
      "metadata": {},
      "outputs": [
        {
          "name": "stdout",
          "output_type": "stream",
          "text": [
            "The values above 800 only represent a 4.42 % of the data\n"
          ]
        }
      ],
      "source": [
        "print(f'The values above 800 only represent a {round((9761/len(data))*100,2)} % of the data')"
      ]
    },
    {
      "cell_type": "markdown",
      "metadata": {},
      "source": [
        "As the values above 800 only represent a 4.42 % of the data they can be considered outliers and we can remove them as they may affect our prediction results."
      ]
    },
    {
      "cell_type": "code",
      "execution_count": 218,
      "metadata": {},
      "outputs": [],
      "source": [
        "data = data[data['volume'] < 800]\n",
        "\n",
        "# A copy of the data is created for Activity 3\n",
        "data3 = data.copy()"
      ]
    },
    {
      "cell_type": "markdown",
      "metadata": {},
      "source": [
        "### 2. Numerical Variables Exploration"
      ]
    },
    {
      "cell_type": "code",
      "execution_count": 219,
      "metadata": {},
      "outputs": [
        {
          "name": "stdout",
          "output_type": "stream",
          "text": [
            "       adjusted close         strike       call/put            ask  \\\n",
            "count   211271.000000  211271.000000  211271.000000  211271.000000   \n",
            "mean       435.110483     397.709986       0.494966      43.435186   \n",
            "std          3.842574      95.343820       0.499976      61.306396   \n",
            "min        424.970000      25.000000       0.000000       0.010000   \n",
            "25%        432.930000     345.000000       0.000000       1.920000   \n",
            "50%        435.460000     409.000000       0.000000      18.020000   \n",
            "75%        438.510000     456.000000       1.000000      55.920000   \n",
            "max        441.020000     655.000000       1.000000     416.890000   \n",
            "\n",
            "                 bid     mean price             iv  open interest  \\\n",
            "count  211271.000000  211271.000000  211271.000000  211271.000000   \n",
            "mean       42.705085      43.068429       0.239961    1210.231144   \n",
            "std        60.677646      60.990365       0.220703    4244.670131   \n",
            "min         0.000000       0.000000      -1.000000       0.000000   \n",
            "25%         1.710000       1.840000       0.141140       1.000000   \n",
            "50%        17.530000      17.790000       0.210931      76.000000   \n",
            "75%        54.945000      55.437500       0.310530     734.000000   \n",
            "max       415.230000     416.060000       1.805012  168796.000000   \n",
            "\n",
            "       stock price for iv          delta           vega          gamma  \\\n",
            "count       211271.000000  211271.000000  211271.000000  211271.000000   \n",
            "mean           434.987603       0.107585       0.513506       0.004775   \n",
            "std              3.817389       0.623153       0.551513       0.006633   \n",
            "min            425.020000      -1.000000       0.000000       0.000000   \n",
            "25%            432.520000      -0.242051       0.061384       0.000682   \n",
            "50%            435.440000       0.000000       0.301811       0.002651   \n",
            "75%            438.140000       0.756617       0.849174       0.006024   \n",
            "max            441.050000       1.000000       2.674587       0.097636   \n",
            "\n",
            "               theta            rho  \n",
            "count  211271.000000  211271.000000  \n",
            "mean       -0.039460      -0.070012  \n",
            "std         0.033196       1.765347  \n",
            "min        -0.524489     -15.741297  \n",
            "25%        -0.054470      -0.156587  \n",
            "50%        -0.034569       0.000000  \n",
            "75%        -0.013976       0.388800  \n",
            "max         0.000000       5.584008  \n"
          ]
        }
      ],
      "source": [
        "# List of numerical columns\n",
        "numerical_cols = data.select_dtypes(include=['float64', 'int64']).columns.tolist()\n",
        "numerical_cols.remove('volume')  # Exclude the target variable\n",
        "\n",
        "# Summary statistics of numerical variables\n",
        "print(data[numerical_cols].describe())"
      ]
    },
    {
      "cell_type": "markdown",
      "metadata": {},
      "source": [
        "### 3. Finding the Correlation Between Variables"
      ]
    },
    {
      "cell_type": "markdown",
      "metadata": {},
      "source": [
        "We can see from the correlation matrix below that some variables have a high correlation. \n",
        "\n",
        "As the correlation is so high, this suggests that the features have a perfect positive correlation, meaning they contain exactly the same information. Then, we can drop one of the three columns of \"ask\" \"bid\" or \"mean price\" because the three of them will feed the model with the same information so having the three is redundant."
      ]
    },
    {
      "cell_type": "code",
      "execution_count": 221,
      "metadata": {},
      "outputs": [
        {
          "data": {
            "image/png": "[encoded data removed]",
            "text/plain": [
              "<Figure size 1200x1000 with 2 Axes>"
            ]
          },
          "metadata": {},
          "output_type": "display_data"
        },
        {
          "name": "stdout",
          "output_type": "stream",
          "text": [
            "volume                1.000000\n",
            "gamma                 0.367914\n",
            "open interest         0.239782\n",
            "call/put              0.085044\n",
            "strike                0.046516\n",
            "rho                   0.011970\n",
            "adjusted close       -0.032910\n",
            "stock price for iv   -0.033291\n",
            "delta                -0.054317\n",
            "iv                   -0.073652\n",
            "vega                 -0.081759\n",
            "bid                  -0.207790\n",
            "mean price           -0.208546\n",
            "ask                  -0.209298\n",
            "theta                -0.326758\n",
            "Name: volume, dtype: float64\n"
          ]
        }
      ],
      "source": [
        "# Correlation matrix\n",
        "correlation_matrix = data.drop(columns='date').corr()\n",
        "\n",
        "# Display the correlation matrix\n",
        "plt.figure(figsize=(12, 10))\n",
        "sns.heatmap(correlation_matrix, annot=True, cmap='coolwarm', linewidths=0.5)\n",
        "plt.title('Correlation Matrix')\n",
        "plt.show()\n",
        "\n",
        "# Correlation with the target variable\n",
        "print(correlation_matrix['volume'].sort_values(ascending=False))"
      ]
    },
    {
      "cell_type": "markdown",
      "metadata": {},
      "source": [
        "Dropping two features:"
      ]
    },
    {
      "cell_type": "code",
      "execution_count": 222,
      "metadata": {},
      "outputs": [],
      "source": [
        "data.drop(columns=['ask','mean price'], inplace = True)"
      ]
    },
    {
      "cell_type": "markdown",
      "metadata": {},
      "source": [
        "Update the value for numerical_columns"
      ]
    },
    {
      "cell_type": "code",
      "execution_count": 223,
      "metadata": {},
      "outputs": [],
      "source": [
        "# List of numerical columns\n",
        "numerical_cols = data.select_dtypes(include=['float64', 'int64']).columns.tolist()"
      ]
    },
    {
      "cell_type": "markdown",
      "metadata": {},
      "source": [
        "### 4. Normalizing Values Using Standard Scaling"
      ]
    },
    {
      "cell_type": "code",
      "execution_count": 224,
      "metadata": {},
      "outputs": [],
      "source": [
        "\n",
        "# Standard Scaling for numerical features\n",
        "scaler = StandardScaler()\n",
        "data[numerical_cols] = scaler.fit_transform(data[numerical_cols])"
      ]
    },
    {
      "cell_type": "markdown",
      "metadata": {},
      "source": [
        "### 5. Split the data into train and test subsets\n",
        "\n",
        "As the business would like to predict the volume from July 30, 2021 based on the data for July 1 to July 29, 2023, we will take all of the observations from July 30 as our test set and all of the other data as our training set."
      ]
    },
    {
      "cell_type": "code",
      "execution_count": 225,
      "metadata": {},
      "outputs": [],
      "source": [
        "train_data = data[data['date'] != '07/30/2021']\n",
        "test_data = data[data['date'] == '07/30/2021']\n"
      ]
    },
    {
      "cell_type": "markdown",
      "metadata": {},
      "source": [
        "And divide the data in X (features) and y (target feature)"
      ]
    },
    {
      "cell_type": "code",
      "execution_count": 226,
      "metadata": {},
      "outputs": [],
      "source": [
        "# target feature\n",
        "y_train = train_data['volume']\n",
        "y_test = test_data['volume']"
      ]
    },
    {
      "cell_type": "code",
      "execution_count": 227,
      "metadata": {},
      "outputs": [],
      "source": [
        "# features\n",
        "X_train = train_data.drop(columns=['volume','date']) # we also drop date as it is not necessary for our model training"
      ]
    },
    {
      "cell_type": "code",
      "execution_count": 228,
      "metadata": {},
      "outputs": [],
      "source": [
        "# features\n",
        "X_test = test_data.drop(columns=['volume','date']) # we also drop date as it is not necessary for our model training\n",
        "\n"
      ]
    },
    {
      "cell_type": "markdown",
      "metadata": {},
      "source": [
        "### 6. Build a machine-learning model\n",
        "\n",
        "The next step is to build a ML model. As the problem requires make a forecast of our target feature, being that feature a continue numerical variable, the chosen model is a regression algorithm. "
      ]
    },
    {
      "cell_type": "markdown",
      "metadata": {},
      "source": [
        "#### Linear regression\n",
        "From Scikit Learn library we create an instance of the linear regression model:"
      ]
    },
    {
      "cell_type": "code",
      "execution_count": 229,
      "metadata": {},
      "outputs": [],
      "source": [
        "reg = linear_model.LinearRegression()"
      ]
    },
    {
      "cell_type": "markdown",
      "metadata": {},
      "source": [
        "Then, with .fit we can use train the model by adjusting data from X to Y.\n",
        "\n",
        "LinearRegression will take in its fit method arrays X, y and will store the coefficients \n",
        " of the linear model in its coef_ member:"
      ]
    },
    {
      "cell_type": "code",
      "execution_count": 230,
      "metadata": {},
      "outputs": [
        {
          "data": {
            "text/plain": [
              "array([ 0.03033633,  0.03038243,  0.10180048, -0.05325208, -0.00389414,\n",
              "        0.22636578, -0.06965747,  0.0592057 , -0.12517186,  0.28997714,\n",
              "       -0.1098898 ,  0.02693233])"
            ]
          },
          "execution_count": 230,
          "metadata": {},
          "output_type": "execute_result"
        }
      ],
      "source": [
        "reg.fit(X_train,y_train)\n",
        "\n",
        "#Visualize coefficients from the model\n",
        "reg.coef_"
      ]
    },
    {
      "cell_type": "markdown",
      "metadata": {},
      "source": [
        "#### Evaluation Metrics For Regression\n",
        "\n",
        "Finally, we check the performance of the model with help of evaluation metrics. For Regression algorithms it is widely use mean_absolute_error, and mean_squared_error metrics for this purpose."
      ]
    },
    {
      "cell_type": "code",
      "execution_count": 231,
      "metadata": {},
      "outputs": [],
      "source": [
        "y_pred = reg.predict(X_test) "
      ]
    },
    {
      "cell_type": "code",
      "execution_count": 232,
      "metadata": {},
      "outputs": [
        {
          "name": "stdout",
          "output_type": "stream",
          "text": [
            "MAE: 0.40878513514988873\n",
            "MSE: 0.676134709897641\n",
            "RMSE: 0.8222741087360352\n"
          ]
        }
      ],
      "source": [
        "mae = mean_absolute_error(y_true=y_test,y_pred=y_pred) \n",
        "#squared True returns MSE value, False returns RMSE value. \n",
        "mse = mean_squared_error(y_true=y_test,y_pred=y_pred) #default=True \n",
        "rmse = mean_squared_error(y_true=y_test,y_pred=y_pred,squared=False) \n",
        "  \n",
        "print(\"MAE:\",mae) \n",
        "print(\"MSE:\",mse) \n",
        "print(\"RMSE:\",rmse)"
      ]
    },
    {
      "cell_type": "code",
      "execution_count": 233,
      "metadata": {},
      "outputs": [
        {
          "name": "stdout",
          "output_type": "stream",
          "text": [
            "Min target value: -0.34836061292854553\n",
            "Max target value: 7.326928881516546\n",
            "Normalized MAE (as %): 5.33%\n",
            "Normalized MSE (as %): 8.81%\n",
            "Normalized RMSE (as %): 10.71%\n"
          ]
        }
      ],
      "source": [
        "# Get the minimum and maximum values of target variable\n",
        "min_target_value = data['volume'].min()\n",
        "max_target_value = data['volume'].max()\n",
        "\n",
        "print(f'Min target value: {min_target_value}\\nMax target value: {max_target_value}')\n",
        "\n",
        "# Normalize the error by the target variable range and express as a percentage\n",
        "normalized_mae = (mae / (max_target_value - min_target_value)) * 100\n",
        "normalized_mse = (mse / (max_target_value - min_target_value)) * 100\n",
        "normalized_rmse = (rmse / (max_target_value - min_target_value)) * 100\n",
        "\n",
        "\n",
        "print(f\"Normalized MAE (as %): {normalized_mae:.2f}%\")\n",
        "print(f\"Normalized MSE (as %): {normalized_mse:.2f}%\")\n",
        "print(f\"Normalized RMSE (as %): {normalized_rmse:.2f}%\")"
      ]
    },
    {
      "cell_type": "markdown",
      "metadata": {},
      "source": [
        "#### Results analysis"
      ]
    },
    {
      "cell_type": "markdown",
      "metadata": {},
      "source": [
        "* The Normalized MAE suggests a moderate level of error. The model's predictions are off by an average of 5.33% from the target variable's range (-0.3484 to 7.3269).\n",
        "* The Normalized RMSE indicates a higher level of error compared to MAE. On average, the model's predictions deviate from the actual values by 10.\n",
        "* The Normalized MSE, while lower than the previous case (likely due to a smaller range), this value still reflects some larger errors affecting the average. Squaring them in MSE inflates their contribution.\n",
        "\n",
        "* The higher normalized RMSE compared to MAE suggests the presence of some larger errors that are affecting the model's performance.\n",
        "\n",
        "**Recomendations:**\n",
        "\n",
        "If the C-level executives consider that a new iteration of the data analysis phase must be made, we can make some considerations:\n",
        "\n",
        "* Analyze the distribution of errors. Are there any other outliers significantly affecting the MSE and RMSE?\n",
        "* Depending on the application's needs, a 5-10% average error might be acceptable. However, if higher accuracy is crucial, it can be considered:\n",
        "    * Trying different algorithms or feature engineering techniques.\n",
        "    * Tuning hyperparameters of the current model.\n",
        "    * Using robust regression methods less sensitive to outliers.\n",
        "\n",
        "**Overall:**\n",
        "\n",
        "The model's performance seems moderate in terms of capturing the target variable's trend. The presence of larger errors might require further investigation or model adjustments depending on your specific requirements for accuracy. "
      ]
    },
    {
      "cell_type": "markdown",
      "metadata": {},
      "source": [
        "### 7. Perform a cross-validation technique\n",
        "\n",
        "One way to use cross-validation is to call the cross_val_score function on the estimator and the dataset.\n",
        "\n",
        "The following code cell estimates the accuracy of a linear regression on our dataset by splitting the data, fitting a model and computing the score 5 consecutive times (with different splits each time):"
      ]
    },
    {
      "cell_type": "code",
      "execution_count": 234,
      "metadata": {},
      "outputs": [
        {
          "data": {
            "text/plain": [
              "array([0.2348231 , 0.23460405, 0.23244279, 0.21619681, 0.20533891])"
            ]
          },
          "execution_count": 234,
          "metadata": {},
          "output_type": "execute_result"
        }
      ],
      "source": [
        "#if not specified, the metric evaluated is MSE in the case of regression models by default\n",
        "scores = cross_val_score(reg, X_train, y_train, cv=5)\n",
        "scores"
      ]
    },
    {
      "cell_type": "code",
      "execution_count": 235,
      "metadata": {},
      "outputs": [
        {
          "name": "stdout",
          "output_type": "stream",
          "text": [
            "Normalized MSE (as %): 3.06%\n",
            "Normalized MSE (as %): 3.06%\n",
            "Normalized MSE (as %): 3.03%\n",
            "Normalized MSE (as %): 2.82%\n",
            "Normalized MSE (as %): 2.68%\n"
          ]
        }
      ],
      "source": [
        "for score in scores:    \n",
        "    normalized_mse = (score / (max_target_value - min_target_value)) * 100\n",
        "    print(f\"Normalized MSE (as %): {normalized_mse:.2f}%\")"
      ]
    },
    {
      "cell_type": "markdown",
      "metadata": {},
      "source": [
        "From this values we can  see that the percentage of error give us very good values as the error is less than 5% for each of the cross-validated cases."
      ]
    },
    {
      "cell_type": "markdown",
      "metadata": {},
      "source": [
        "## VIII) Data Visualization\n",
        "\n",
        "We can visualize our predicted values vs the real test values to get a graphical idea of the error of the model:"
      ]
    },
    {
      "cell_type": "code",
      "execution_count": 236,
      "metadata": {},
      "outputs": [
        {
          "data": {
            "image/png": "[encoded data removed]",
            "text/plain": [
              "<Figure size 1000x600 with 1 Axes>"
            ]
          },
          "metadata": {},
          "output_type": "display_data"
        }
      ],
      "source": [
        "# Create the first scatter plot (predicted values vs feature1)\n",
        "plt.figure(figsize=(10, 6))  # Adjust the figure size as needed\n",
        "plt.scatter(X_test['gamma'], y_pred, color='blue', label='Predicted volume')\n",
        "\n",
        "# Create the second scatter plot (test values vs feature1) on the same plot\n",
        "plt.scatter(X_test['gamma'], y_test, color='red', alpha=0.7, label='Actual volume')\n",
        "\n",
        "# Add labels and title\n",
        "plt.xlabel('gamma')\n",
        "plt.ylabel('Price')\n",
        "plt.title('Comparison: Predicted vs. Actual volumes')\n",
        "\n",
        "# Add legend\n",
        "plt.legend()\n",
        "\n",
        "# Grid and show the plot\n",
        "plt.grid(True)\n",
        "plt.show()"
      ]
    },
    {
      "cell_type": "markdown",
      "metadata": {},
      "source": [
        "We can see that the predictions, for a simple model as a linear regression, give us a good estimation for most of the values. How ever, further improvements can be made by changing the model to a more complex one and try to fit better the data to predict values that resembles the real data.\n"
      ]
    },
    {
      "cell_type": "markdown",
      "metadata": {},
      "source": [
        "## IX) Utilization of Analysis Results"
      ]
    },
    {
      "cell_type": "markdown",
      "metadata": {},
      "source": [
        "\n",
        "We can conclude from the results that this model can be used with caution to estimate volume representing the number of contracts traded in a single day, as the error is less than 5%. How ever, it performs better in situations where the market doesn't present outstanding values as in the cases discarded from the training data. A further analysis can be made in order to characterize the values of the other features in that odd events where the volume exceeds a value of 900, and inform the company that shouldn't use the model to predict the volume in that cases, or use it with caution."
      ]
    },
    {
      "cell_type": "markdown",
      "metadata": {},
      "source": [
        "Even with a Mean Squared Error (MSE) less than 5%, which signifies a good fit for the model,  stock market predictions are inherently uncertain. However, we could consider some potential uses for the analysis results, for example:\n",
        "\n",
        "1. Identify Abnormal Volume\n",
        "\n",
        "2. Create algorithmic Trading Strategies\n",
        "\n",
        "\n",
        "3. Market Making and Liquidity Management\n",
        "\n",
        "4. Portfolio Rebalancing\n",
        "\n",
        "5. Risk Management\n"
      ]
    },
    {
      "cell_type": "markdown",
      "metadata": {},
      "source": [
        "# ---- Class Activity 3 Point 2 ----"
      ]
    },
    {
      "cell_type": "markdown",
      "metadata": {},
      "source": [
        "Engineer a new feature and compare your Activity 2 results with and without this new feature.\n",
        "The new feature we are going to engineer is the \"month\" feature. We are going to extract the month from the date feature and use it as a new feature in our model.\n",
        "\n",
        "The Feature Engineering is handled in the Data Analysis step VII, before the step 3 to find the correlation between variables.\n"
      ]
    },
    {
      "cell_type": "markdown",
      "metadata": {},
      "source": [
        "## VII) Data Analysis"
      ]
    },
    {
      "cell_type": "markdown",
      "metadata": {},
      "source": [
        "### Feature Engineering"
      ]
    },
    {
      "cell_type": "markdown",
      "metadata": {},
      "source": [
        "Start from a copy of the dataframe from Activity 2 after the  pre-processing steps.\n",
        "For Feature Engineering  the technique of rolling statistics will be used to create a new feature. This technique consists of calculating the mean of a feature over a certain period of time. In this case, we will calculate the mean of the volume over the last 7 days."
      ]
    },
    {
      "cell_type": "code",
      "execution_count": 237,
      "metadata": {},
      "outputs": [],
      "source": [
        "df3 = data3.copy()\n",
        "\n",
        "# Rolling Statistics\n",
        "# Creating rolling mean and std for volume\n",
        "df3['volume_roll_mean_7'] = df3['volume'].rolling(window=7).mean()\n",
        "\n",
        "# For a 7-day rolling mean, the first 6 entries (since the window size is 7) will not have enough data points to compute \n",
        "# the mean, the first 6 entries will be NaN. We can fill these NaN values with 0.\n",
        "df3['volume_roll_mean_7'].fillna(0, inplace=True)\n"
      ]
    },
    {
      "cell_type": "markdown",
      "metadata": {},
      "source": [
        "### 3. Finding the Correlation Between Variables"
      ]
    },
    {
      "cell_type": "code",
      "execution_count": 238,
      "metadata": {},
      "outputs": [
        {
          "data": {
            "text/plain": [
              "volume                1.000000\n",
              "volume_roll_mean_7    0.635100\n",
              "gamma                 0.367914\n",
              "open interest         0.239782\n",
              "call/put              0.085044\n",
              "strike                0.046516\n",
              "rho                   0.011970\n",
              "adjusted close       -0.032910\n",
              "stock price for iv   -0.033291\n",
              "delta                -0.054317\n",
              "iv                   -0.073652\n",
              "vega                 -0.081759\n",
              "bid                  -0.207790\n",
              "mean price           -0.208546\n",
              "ask                  -0.209298\n",
              "theta                -0.326758\n",
              "Name: volume, dtype: float64"
            ]
          },
          "execution_count": 238,
          "metadata": {},
          "output_type": "execute_result"
        }
      ],
      "source": [
        "\n",
        "# Correlation matrix\n",
        "correlation_matrix = df3.drop(columns='date').corr()\n",
        "\n",
        "# Get the correlation of all features with the target variable 'volume'\n",
        "volume_correlation = correlation_matrix['volume'].sort_values(ascending=False)\n",
        "volume_correlation"
      ]
    },
    {
      "cell_type": "markdown",
      "metadata": {},
      "source": [
        "The new feature volume_roll_mean_7  represents the rolling mean of the volume over the last 7 days and has the highest correlation with the target variable volume."
      ]
    },
    {
      "cell_type": "code",
      "execution_count": 239,
      "metadata": {},
      "outputs": [],
      "source": [
        "# drop irrelevant columns\n",
        "df3.drop(columns=['ask','mean price'], inplace = True)"
      ]
    },
    {
      "cell_type": "markdown",
      "metadata": {},
      "source": [
        "### 4. Normalizing Values Using Standard Scaling"
      ]
    },
    {
      "cell_type": "code",
      "execution_count": 240,
      "metadata": {},
      "outputs": [],
      "source": [
        "# List of numerical columns\n",
        "numerical_cols = df3.select_dtypes(include=['float64', 'int64']).columns.tolist()"
      ]
    },
    {
      "cell_type": "code",
      "execution_count": 241,
      "metadata": {},
      "outputs": [],
      "source": [
        "# Standard Scaling for numerical features\n",
        "scaler = StandardScaler()\n",
        "df3[numerical_cols] = scaler.fit_transform(df3[numerical_cols])"
      ]
    },
    {
      "cell_type": "markdown",
      "metadata": {},
      "source": [
        "### 5. Split the data into train and test subsets\n",
        "\n",
        "As the business would like to predict the volume from July 30, 2021 based on the data for July 1 to July 29, 2023, we will take all of the observations from July 30 as our test set and all of the other data as our training set."
      ]
    },
    {
      "cell_type": "code",
      "execution_count": 242,
      "metadata": {},
      "outputs": [],
      "source": [
        "train_data3 = df3[df3['date'] != '07/30/2021']\n",
        "test_data3 = df3[df3['date'] == '07/30/2021']\n",
        "\n",
        "# target feature\n",
        "y_train3 = train_data3['volume']\n",
        "y_test3 = test_data3['volume']\n",
        "\n",
        "# features\n",
        "X_train3 = train_data3.drop(columns=['volume','date']) # we also drop date as it is not necessary for our model training\n",
        "\n",
        "# features\n",
        "X_test3 = test_data3.drop(columns=['volume','date']) # we also drop date as it is not necessary for our model training\n",
        "\n",
        "\n"
      ]
    },
    {
      "cell_type": "markdown",
      "metadata": {},
      "source": [
        "### 6. Build a machine-learning model\n",
        "\n",
        "The next step is to build a ML model. As the problem requires make a forecast of our target feature, being that feature a continue numerical variable, the chosen model is a regression algorithm. "
      ]
    },
    {
      "cell_type": "markdown",
      "metadata": {},
      "source": [
        "#### Linear regression\n",
        "From Scikit Learn library we create an instance of the linear regression model:"
      ]
    },
    {
      "cell_type": "code",
      "execution_count": 243,
      "metadata": {},
      "outputs": [],
      "source": [
        "reg3 = linear_model.LinearRegression()"
      ]
    },
    {
      "cell_type": "markdown",
      "metadata": {},
      "source": [
        "Then, with .fit we can use train the model by adjusting data from X to Y.\n",
        "\n",
        "LinearRegression will take in its fit method arrays X, y and will store the coefficients \n",
        " of the linear model in its coef_ member:"
      ]
    },
    {
      "cell_type": "code",
      "execution_count": 244,
      "metadata": {},
      "outputs": [
        {
          "data": {
            "text/plain": [
              "array([-0.00281207,  0.02736314,  0.08163348, -0.04618859,  0.01411161,\n",
              "        0.15041432, -0.00136245,  0.02705917, -0.00413207, -0.02143926,\n",
              "       -0.0198371 ,  0.02305187,  0.60720424])"
            ]
          },
          "execution_count": 244,
          "metadata": {},
          "output_type": "execute_result"
        }
      ],
      "source": [
        "reg3.fit(X_train3,y_train3)\n",
        "\n",
        "#Visualize coefficients from the model\n",
        "reg3.coef_"
      ]
    },
    {
      "cell_type": "markdown",
      "metadata": {},
      "source": [
        "#### Evaluation Metrics For Regression\n",
        "\n",
        "Finally, we check the performance of the model with help of evaluation metrics. For Regression algorithms it is widely use mean_absolute_error, and mean_squared_error metrics for this purpose."
      ]
    },
    {
      "cell_type": "code",
      "execution_count": 245,
      "metadata": {},
      "outputs": [],
      "source": [
        "y_pred3 = reg3.predict(X_test3) "
      ]
    },
    {
      "cell_type": "code",
      "execution_count": 246,
      "metadata": {},
      "outputs": [
        {
          "name": "stdout",
          "output_type": "stream",
          "text": [
            "MAE: 0.3376871793488731\n",
            "MSE: 0.48407692856231127\n",
            "RMSE: 0.6957563715571071\n"
          ]
        }
      ],
      "source": [
        "mae3 = mean_absolute_error(y_true=y_test3,y_pred=y_pred3) \n",
        "#squared True returns MSE value, False returns RMSE value. \n",
        "mse3 = mean_squared_error(y_true=y_test3,y_pred=y_pred3) #default=True \n",
        "rmse3 = mean_squared_error(y_true=y_test3,y_pred=y_pred3,squared=False) \n",
        "  \n",
        "print(\"MAE:\",mae3) \n",
        "print(\"MSE:\",mse3) \n",
        "print(\"RMSE:\",rmse3)"
      ]
    },
    {
      "cell_type": "code",
      "execution_count": 247,
      "metadata": {},
      "outputs": [
        {
          "name": "stdout",
          "output_type": "stream",
          "text": [
            "Normalized MAE Activity3(as %): 4.40%\n",
            "Normalized MSE Activity3(as %): 6.31%\n",
            "Normalized RMSE Activity3(as %): 9.06%\n",
            "--------------------------------------------------\n",
            "Normalized MAE Activity2(as %): 5.33%\n",
            "Normalized MSE Activity2(as %): 2.68%\n",
            "Normalized RMSE Activity2(as %): 10.71%\n"
          ]
        }
      ],
      "source": [
        "# Get the minimum and maximum values of target variable\n",
        "min_target_value3 = df3['volume'].min()\n",
        "max_target_value3 = df3['volume'].max()\n",
        "\n",
        "\n",
        "# Normalize the error by the target variable range and express as a percentage\n",
        "normalized_mae3 = (mae3 / (max_target_value3 - min_target_value3)) * 100\n",
        "normalized_mse3 = (mse3 / (max_target_value3 - min_target_value3)) * 100\n",
        "normalized_rmse3 = (rmse3 / (max_target_value3 - min_target_value3)) * 100\n",
        "\n",
        "\n",
        "print(f\"Normalized MAE Activity3(as %): {normalized_mae3:.2f}%\")\n",
        "print(f\"Normalized MSE Activity3(as %): {normalized_mse3:.2f}%\")\n",
        "print(f\"Normalized RMSE Activity3(as %): {normalized_rmse3:.2f}%\")\n",
        "\n",
        "print('-' * 50)\n",
        "\n",
        "print(f\"Normalized MAE Activity2(as %): {normalized_mae:.2f}%\")\n",
        "print(f\"Normalized MSE Activity2(as %): {normalized_mse:.2f}%\")\n",
        "print(f\"Normalized RMSE Activity2(as %): {normalized_rmse:.2f}%\")"
      ]
    },
    {
      "cell_type": "markdown",
      "metadata": {},
      "source": [
        "### 7. Perform a cross-validation technique\n",
        "\n",
        "One way to use cross-validation is to call the cross_val_score function on the estimator and the dataset.\n",
        "\n",
        "The following code cell estimates the accuracy of a linear regression on our dataset by splitting the data, fitting a model and computing the score 5 consecutive times (with different splits each time):"
      ]
    },
    {
      "cell_type": "code",
      "execution_count": 248,
      "metadata": {},
      "outputs": [
        {
          "data": {
            "text/plain": [
              "array([0.44554353, 0.44668796, 0.433818  , 0.42845565, 0.42260345])"
            ]
          },
          "execution_count": 248,
          "metadata": {},
          "output_type": "execute_result"
        }
      ],
      "source": [
        "#if not specified, the metric evaluated is MSE in the case of regression models by default\n",
        "scores3 = cross_val_score(reg3, X_train3, y_train3, cv=5)\n",
        "scores3"
      ]
    },
    {
      "cell_type": "code",
      "execution_count": 249,
      "metadata": {},
      "outputs": [
        {
          "name": "stdout",
          "output_type": "stream",
          "text": [
            "Normalized MSE for Activity3(as %): 5.80%\n",
            "Normalized MSE for Activity3(as %): 5.82%\n",
            "Normalized MSE for Activity3(as %): 5.65%\n",
            "Normalized MSE for Activity3(as %): 5.58%\n",
            "Normalized MSE for Activity3(as %): 5.51%\n",
            "--------------------------------------------------\n",
            "Normalized MSE for Activity2(as %): 3.06%\n",
            "Normalized MSE for Activity2(as %): 3.06%\n",
            "Normalized MSE for Activity2(as %): 3.03%\n",
            "Normalized MSE for Activity2(as %): 2.82%\n",
            "Normalized MSE for Activity2(as %): 2.68%\n"
          ]
        }
      ],
      "source": [
        "for score in scores3:    \n",
        "    normalized_mse3 = (score / (max_target_value3 - min_target_value3)) * 100\n",
        "    print(f\"Normalized MSE for Activity3(as %): {normalized_mse3:.2f}%\")\n",
        "\n",
        "print('-' * 50)\n",
        "\n",
        "for score in scores:\n",
        "    normalized_mse = (score / (max_target_value - min_target_value)) * 100\n",
        "    print(f\"Normalized MSE for Activity2(as %): {normalized_mse:.2f}%\")"
      ]
    },
    {
      "cell_type": "markdown",
      "metadata": {},
      "source": [
        "### Conclusion"
      ]
    },
    {
      "cell_type": "markdown",
      "metadata": {},
      "source": [
        "Model Activity3, which includes the new feature volume_roll_mean_7, demonstrates lower MAE and RMSE values compared to Model Activity2, suggesting that it has better prediction accuracy and lower average absolute errors. The higher MSE for Activity3 might indicate some larger errors or outliers affecting the model's performance.\n",
        "\n",
        "However, the consistently lower normalized MSE in Activity2 could imply that while the model without the new feature has lower squared errors on average, it might be less accurate overall. The inclusion of the rolling mean feature helps the model capture more temporal trends in the volume data, leading to better performance in terms of MAE and RMSE, which are crucial metrics for assessing prediction quality.\n",
        "\n",
        "In conclusion, Activity3 appears to be the better model overall for predicting volume due to its lower MAE and RMSE, despite the higher MSE, indicating it generally provides more accurate predictions."
      ]
    },
    {
      "cell_type": "markdown",
      "metadata": {},
      "source": [
        "# References\n",
        "\n",
        "* https://scikit-learn.org/stable/modules/linear_model.html\n",
        "* https://scikit-learn.org/stable/modules/cross_validation.html\n"
      ]
    }
  ],
  "metadata": {
    "colab": {
      "provenance": []
    },
    "kernelspec": {
      "display_name": "base",
      "language": "python",
      "name": "python3"
    },
    "language_info": {
      "codemirror_mode": {
        "name": "ipython",
        "version": 3
      },
      "file_extension": ".py",
      "mimetype": "text/x-python",
      "name": "python",
      "nbconvert_exporter": "python",
      "pygments_lexer": "ipython3",
      "version": "3.11.7"
    }
  },
  "nbformat": 4,
  "nbformat_minor": 0
}
